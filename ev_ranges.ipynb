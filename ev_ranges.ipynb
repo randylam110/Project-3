{
 "cells": [
  {
   "cell_type": "markdown",
   "id": "cb80e932",
   "metadata": {},
   "source": [
    "# Code to convert the excel file to a usable json"
   ]
  },
  {
   "cell_type": "code",
   "execution_count": null,
   "id": "22b7d62d",
   "metadata": {},
   "outputs": [],
   "source": [
    "from flask import Flask, render_template, jsonify\n",
    "from flask_pymongo import PyMongo\n",
    "import json\n",
    "import ev_ranges\n",
    "\n",
    "def ranges():\n",
    "    # read in the excel file dropping the top junk rows\n",
    "    ev_ranges_file = \"Data/10963_EV_range_efficiency_1-6-22.xlsx\"\n",
    "    ev_ranges_df = pd.read_excel(ev_ranges_file, skiprows=2)\n",
    "\n",
    "    # Removing unused data columns\n",
    "\n",
    "    ev_ranges_df.drop(ev_ranges_df.columns[[0,5,6,7,8,9]], axis=1, inplace=True)\n",
    "\n",
    "\n",
    "    # Removes the trailing NaNs\n",
    "    ev_ranges_df.dropna(inplace=True)\n",
    "\n",
    "    # Group by year with mean of ranges then return to a dataframe format\n",
    "    ev_gbymean = ev_ranges_df.groupby(\"Model Year\").mean().reset_index()\n",
    "\n",
    "    # Group by year with max of ranges then return to a dataframe format\n",
    "    ev_gbymax = ev_ranges_df.groupby(\"Model Year\")[\"Range\"].max().reset_index()\n",
    "\n",
    "    # Merge the two grouped dataframes back to one\n",
    "    ev_ranges_by_year = pd.merge(ev_gbymean,ev_gbymax, how=\"left\", on=\"Model Year\")\n",
    "\n",
    "    # Rename the columns\n",
    "    ev_ranges_by_year.rename(columns={'Range_x' : 'Average Range', 'Range_y' : 'Max Range'}, inplace=True)\n",
    "\n",
    "    # Remove first two rows for continuous years\n",
    "    ev_ranges_by_year.drop([0,1], inplace=True)\n",
    "\n",
    "    ev_ranges_by_year.reset_index(drop=True, inplace=True)\n",
    "    \n",
    "    ev_ranges_by_year.reset_index(drop=True, inplace=True)\n",
    "\n",
    "    # Return final dataframe as a json\n",
    "    return ev_ranges_by_year.to_dict('split')"
   ]
  },
  {
   "cell_type": "code",
   "execution_count": null,
   "id": "ad1760e6",
   "metadata": {},
   "outputs": [],
   "source": [
    "# Create an instance of Flask\n",
    "app = Flask(__name__)"
   ]
  },
  {
   "cell_type": "code",
   "execution_count": null,
   "id": "d94bf770",
   "metadata": {},
   "outputs": [],
   "source": [
    "# Use PyMongo to establish Mongo connection\n",
    "conn = \"mongodb://localhost:27017/ev_data\"\n",
    "mongo = PyMongo(app, uri = conn)"
   ]
  },
  {
   "cell_type": "code",
   "execution_count": null,
   "id": "1bb3d2dc",
   "metadata": {},
   "outputs": [],
   "source": [
    "ev_range = ranges()"
   ]
  },
  {
   "cell_type": "code",
   "execution_count": null,
   "id": "ccc9fe80",
   "metadata": {},
   "outputs": [],
   "source": [
    "ev_range"
   ]
  },
  {
   "cell_type": "code",
   "execution_count": null,
   "id": "0f9d690a",
   "metadata": {},
   "outputs": [],
   "source": [
    "type(ev_range)"
   ]
  },
  {
   "cell_type": "code",
   "execution_count": null,
   "id": "8cda0b1d",
   "metadata": {},
   "outputs": [],
   "source": [
    "mongo.db.ranges.update_one({}, {\"$set\": ev_range}, upsert=True)"
   ]
  },
  {
   "cell_type": "code",
   "execution_count": null,
   "id": "3598b6b1",
   "metadata": {},
   "outputs": [],
   "source": [
    "result = mongo.db.ranges.find()"
   ]
  },
  {
   "cell_type": "code",
   "execution_count": null,
   "id": "c53b03d6",
   "metadata": {},
   "outputs": [],
   "source": [
    "result_list = list(result)"
   ]
  },
  {
   "cell_type": "code",
   "execution_count": null,
   "id": "e25fe2ed",
   "metadata": {},
   "outputs": [],
   "source": [
    "result"
   ]
  },
  {
   "cell_type": "code",
   "execution_count": null,
   "id": "562e672d",
   "metadata": {},
   "outputs": [],
   "source": [
    "if len(result_list) > 0:\n",
    "        # Return the first result only and strip off the '_id'\n",
    "        data = result_list[0] \n",
    "        id_to_discard = data.pop('_id', None)\n",
    "else:\n",
    "        # Construct an error message\n",
    "        data = {'Error': 'No data found'} "
   ]
  },
  {
   "cell_type": "code",
   "execution_count": null,
   "id": "4c485d86",
   "metadata": {},
   "outputs": [],
   "source": [
    "data"
   ]
  },
  {
   "cell_type": "code",
   "execution_count": null,
   "id": "9f11d167",
   "metadata": {},
   "outputs": [],
   "source": []
  }
 ],
 "metadata": {
  "kernelspec": {
   "display_name": "Python 3 (ipykernel)",
   "language": "python",
   "name": "python3"
  },
  "language_info": {
   "codemirror_mode": {
    "name": "ipython",
    "version": 3
   },
   "file_extension": ".py",
   "mimetype": "text/x-python",
   "name": "python",
   "nbconvert_exporter": "python",
   "pygments_lexer": "ipython3",
   "version": "3.8.13"
  },
  "vscode": {
   "interpreter": {
    "hash": "490f1c68ed42f2c5a574e22fb9e03ff49b98516de8582ff1c5d4fb43fb70f61b"
   }
  }
 },
 "nbformat": 4,
 "nbformat_minor": 5
}
